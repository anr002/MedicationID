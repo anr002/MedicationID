{
 "cells": [
  {
   "cell_type": "code",
   "execution_count": null,
   "id": "5b0bc736",
   "metadata": {},
   "outputs": [],
   "source": [
    "import pandas as pd\n",
    "import numpy as np\n",
    "import cv2\n",
    "import os\n",
    "import pyarrow\n",
    "\n",
    "\n",
    "csv_path = \"F:/Google DOwnloads/rximage/table.csv\"\n",
    "df = pd.read_csv(csv_path)\n",
    "\n",
    "processed_rows = []\n",
    "\n",
    "for _, row in df.iterrows():\n",
    "    img_path = f\"F:/Google DOwnloads/rximage/{row['RXNAV ORIGINAL']}\"\n",
    "    if not os.path.exists(img_path):\n",
    "        continue\n",
    "    img = cv2.imread(img_path)\n",
    "    if img is None:\n",
    "        continue\n",
    "    img = cv2.resize(img, (224, 224))\n",
    "    img = img / 255.0\n",
    "    flat = img.flatten()\n",
    "    processed_row = {\n",
    "        'name': row['name'],\n",
    "        **{f'feat_{i}': flat[i] for i in range(len(flat))}\n",
    "    }\n",
    "    processed_rows.append(processed_row)\n",
    "\n",
    "# Spark timing out so saving to parquet and feeding to Spark\n",
    "out_df = pd.DataFrame(processed_rows)\n",
    "out_df.to_parquet(\"F:/Google DOwnloads/rximage/processed.parquet\")\n"
   ]
  },
  {
   "attachments": {
    "image.png": {
     "image/png": "[encoded data removed]"
    }
   },
   "cell_type": "markdown",
   "id": "b62c79ac",
   "metadata": {},
   "source": [
    "## Third attempt at prepreprocessing and currently 123 minutes in. Do not believe it will complete on time.\n",
    "\n",
    "\n",
    "![image.png](attachment:image.png)\n",
    "\n",
    "\n"
   ]
  },
  {
   "cell_type": "code",
   "execution_count": null,
   "id": "77a60f57",
   "metadata": {},
   "outputs": [],
   "source": [
    "from pyspark.sql import SparkSession\n",
    "from pyspark.ml import Pipeline\n",
    "from pyspark.ml.feature import StringIndexer, VectorAssembler\n",
    "from pyspark.ml.classification import RandomForestClassifier\n",
    "from pyspark.ml.evaluation import MulticlassClassificationEvaluator\n",
    "\n",
    "spark = SparkSession.builder \\\n",
    "    .appName(\"RxImageClassification\") \\\n",
    "    .master(\"local[*]\") \\\n",
    "    .getOrCreate()\n",
    "\n",
    "spark_df = spark.read.parquet(\"F:/Google DOwnloads/rximage/processed.parquet\")\n",
    "\n",
    "indexer = StringIndexer(inputCol=\"name\", outputCol=\"label\")\n",
    "\n",
    "feature_cols = [col for col in spark_df.columns if col.startswith('feat_')]\n",
    "assembler = VectorAssembler(inputCols=feature_cols, outputCol=\"features\")\n",
    "\n",
    "rf = RandomForestClassifier(featuresCol=\"features\", labelCol=\"label\", numTrees=20)\n",
    "\n",
    "pipeline = Pipeline(stages=[indexer, assembler, rf])\n",
    "\n",
    "train_data, test_data = spark_df.randomSplit([0.8, 0.2], seed=42)\n",
    "\n",
    "model = pipeline.fit(train_data)\n",
    "\n",
    "predictions = model.transform(test_data)\n",
    "\n",
    "evaluator = MulticlassClassificationEvaluator(labelCol=\"label\", predictionCol=\"prediction\", metricName=\"accuracy\")\n",
    "accuracy = evaluator.evaluate(predictions)\n",
    "print(f\"Test Accuracy: {accuracy:.4f}\")\n",
    "\n",
    "predictions.select(\"name\", \"label\", \"prediction\").show(10)"
   ]
  },
  {
   "cell_type": "markdown",
   "id": "465a7b78",
   "metadata": {},
   "source": []
  }
 ],
 "metadata": {
  "kernelspec": {
   "display_name": "Python 3",
   "language": "python",
   "name": "python3"
  },
  "language_info": {
   "codemirror_mode": {
    "name": "ipython",
    "version": 3
   },
   "file_extension": ".py",
   "mimetype": "text/x-python",
   "name": "python",
   "nbconvert_exporter": "python",
   "pygments_lexer": "ipython3",
   "version": "3.11.9"
  }
 },
 "nbformat": 4,
 "nbformat_minor": 5
}
